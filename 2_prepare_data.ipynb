{
 "cells": [
  {
   "cell_type": "markdown",
   "metadata": {},
   "source": [
    "## Prepare data\n",
    "\n",
    "For the rest of this tutorial, we’ll be training models on the [Food-11 dataset](https://www.epfl.ch/labs/mmspg/downloads/food-image-datasets/). We’re going to prepare a Docker volume with this dataset already prepared on it, so that the containers we create later can attach to this volume and access the data."
   ]
  },
  {
   "cell_type": "markdown",
   "metadata": {},
   "source": [
    "First, create the volume:\n",
    "\n",
    "``` bash\n",
    "# runs on node-serve-model\n",
    "docker volume create food11\n",
    "```\n",
    "\n",
    "Then, to populate it with data, run\n",
    "\n",
    "``` bash\n",
    "# runs on node-serve-model\n",
    "docker compose -f serve-model-chi/docker/docker-compose-data.yaml up -d\n",
    "```\n",
    "\n",
    "This will run a temporary container that downloads the Food-11 dataset, organizes it in the volume, and then stops. It may take a minute or two. You can verify with\n",
    "\n",
    "``` bash\n",
    "# runs on node-serve-model\n",
    "docker ps\n",
    "```\n",
    "\n",
    "that it is done - when there are no running containers.\n",
    "\n",
    "Finally, verify that the data looks as it should. Start a shell in a temporary container with this volume attached, and `ls` the contents of the volume:\n",
    "\n",
    "``` bash\n",
    "# runs on node-mltrain\n",
    "docker run --rm -it -v food11:/mnt alpine ls -l /mnt/Food-11/\n",
    "```\n",
    "\n",
    "it should show “evaluation”, “validation”, and “training” subfolders."
   ]
  }
 ],
 "nbformat": 4,
 "nbformat_minor": 4,
 "metadata": {
  "kernelspec": {
   "name": "python3",
   "display_name": "Python 3 (ipykernel)",
   "language": "python"
  },
  "language_info": {
   "name": "python",
   "codemirror_mode": {
    "name": "ipython",
    "version": "3"
   },
   "file_extension": ".py",
   "mimetype": "text/x-python"
  }
 }
}
